{
 "cells": [
  {
   "cell_type": "code",
   "execution_count": null,
   "id": "0",
   "metadata": {},
   "outputs": [],
   "source": [
    "import src.peaks.api as ppi\n",
    "import seaborn as sns\n",
    "import matplotlib.pyplot as plt\n",
    "import src.vae.api as vpi\n",
    "import random\n",
    "import src.generator.api as gpi\n",
    "import src.statistics.api as spi\n",
    "import src.measurements.api as mpi\n",
    "\n",
    "# dates = vpi.API().unique_dates()"
   ]
  },
  {
   "cell_type": "code",
   "execution_count": null,
   "id": "1",
   "metadata": {},
   "outputs": [],
   "source": [
    "synthetic_keys = vpi.API().unique_dates()"
   ]
  },
  {
   "cell_type": "code",
   "execution_count": null,
   "id": "2",
   "metadata": {},
   "outputs": [],
   "source": [
    "random.shuffle(synthetic_keys)\n",
    "synthetics = gpi.API().synthetics(keys=synthetic_keys[0:1500])"
   ]
  },
  {
   "cell_type": "code",
   "execution_count": null,
   "id": "3",
   "metadata": {},
   "outputs": [],
   "source": [
    "dates = ppi.API().unique_dates()\n",
    "meas = ppi.API().measurement(dates)"
   ]
  },
  {
   "cell_type": "code",
   "execution_count": null,
   "id": "4",
   "metadata": {},
   "outputs": [],
   "source": [
    "isotope_per_pm = spi.API().view_isotope_per_re_pm().sample(frac=1).reset_index(drop=True)"
   ]
  },
  {
   "cell_type": "code",
   "execution_count": null,
   "id": "5",
   "metadata": {},
   "outputs": [],
   "source": [
    "data = spi.API().view_re_pm_isotopes_found()"
   ]
  },
  {
   "cell_type": "code",
   "execution_count": null,
   "id": "6",
   "metadata": {},
   "outputs": [],
   "source": [
    "splitted_keys = mpi.API().re_splitted_keys()"
   ]
  },
  {
   "cell_type": "code",
   "execution_count": null,
   "id": "7",
   "metadata": {},
   "outputs": [],
   "source": [
    "filtered_data = data.set_index(\"datetime\").join(splitted_keys.loc[\n",
    "                                                    splitted_keys[\"type\"] == \"cnn_validation\"\n",
    "                                                    ].reset_index(drop=True).set_index(\"datetime\"),\n",
    "                                                how=\"right\").reset_index()"
   ]
  },
  {
   "cell_type": "code",
   "execution_count": null,
   "id": "8",
   "metadata": {},
   "outputs": [],
   "source": [
    "filtered_data = filtered_data.loc[filtered_data[\"identified_isotope\"] != \"\"].reset_index(drop=True)\n",
    "filtered_data[\"datetime\"].unique()"
   ]
  },
  {
   "cell_type": "code",
   "execution_count": null,
   "id": "9",
   "metadata": {},
   "outputs": [],
   "source": [
    "import re\n",
    "\n",
    "\n",
    "def format_isotope(isotope):\n",
    "    match = re.match(r\"([a-zA-Z]+)(\\d+)\", isotope)\n",
    "    if match:\n",
    "        element, mass = match.groups()\n",
    "        return f\"$^{{{mass}}}{element.capitalize()}$\"\n",
    "    else:\n",
    "        return isotope\n",
    "\n",
    "\n",
    "filtered_data[\"identified_isotope\"] = filtered_data[\"identified_isotope\"].apply(format_isotope)"
   ]
  },
  {
   "cell_type": "code",
   "execution_count": null,
   "id": "10",
   "metadata": {},
   "outputs": [],
   "source": [
    "import matplotlib.pyplot as plt\n",
    "import seaborn as sns\n",
    "import pandas as pd\n",
    "\n",
    "plt.rcParams['text.usetex'] = True\n",
    "\n",
    "counts = filtered_data['identified_isotope'].value_counts()\n",
    "counts = counts.sort_values(ascending=True)\n",
    "\n",
    "isotopes = counts.index.tolist()\n",
    "values = counts.values.tolist()\n",
    "\n",
    "fig, ax = plt.subplots(figsize=(8, 4))\n",
    "\n",
    "max_value = 175\n",
    "\n",
    "ax.bar(isotopes, [max_value] * len(values), color='lightgray', edgecolor='none', width=0.8, label='Nicht Annotiert')\n",
    "\n",
    "ax.bar(isotopes, values, color='black', alpha=0.6, width=0.8, label='Annotiert')\n",
    "\n",
    "ax.set_xlabel(\"Nuklid\", size=14, labelpad=10)\n",
    "ax.set_ylabel(\"Anzahl\", size=14, labelpad=10)\n",
    "ax.tick_params(axis='x', labelsize=12, bottom=True, pad=10, rotation=0)\n",
    "ax.tick_params(axis='y', labelsize=12, left=True)\n",
    "ax.grid(False)\n",
    "\n",
    "ax.spines['top'].set_visible(False)\n",
    "ax.spines['right'].set_visible(False)\n",
    "\n",
    "for x, val in zip(isotopes, values):\n",
    "    if val > 0:\n",
    "        ax.annotate(\n",
    "            str(val),\n",
    "            (x, val - 15),\n",
    "            ha='center',\n",
    "            va='bottom',\n",
    "            fontsize=12,\n",
    "            color='white',\n",
    "        )\n",
    "\n",
    "for x, val in zip(isotopes, values):\n",
    "    if val > 0:\n",
    "        ax.annotate(\n",
    "            str(175 - val),\n",
    "            (x, val + 3),\n",
    "            ha='center',\n",
    "            va='bottom',\n",
    "            fontsize=12,\n",
    "            color='black',\n",
    "        )\n",
    "\n",
    "ax.set_ylim(0, max_value)\n",
    "ax.set_xlim(-0.5, 11)\n",
    "ax.legend(loc='upper right', frameon=False, fontsize=12)\n",
    "\n",
    "sns.move_legend(ax,\n",
    "                loc=\"lower center\",\n",
    "                bbox_to_anchor=(0.5, 1.05),\n",
    "                borderaxespad=0,\n",
    "                ncol=2,\n",
    "                frameon=False,\n",
    "                fontsize=12,\n",
    "                title=\"\"\n",
    "                )\n",
    "plt.tight_layout()\n",
    "plt.savefig(\"plots/dist_of_val.pdf\", bbox_inches=\"tight\")\n"
   ]
  },
  {
   "cell_type": "code",
   "execution_count": null,
   "id": "11",
   "metadata": {},
   "outputs": [],
   "source": [
    "used_training = isotope_per_pm.set_index(\"datetime\").join(splitted_keys.set_index(\"datetime\")).reset_index()"
   ]
  }
 ],
 "metadata": {
  "kernelspec": {
   "display_name": "Python 3",
   "language": "python",
   "name": "python3"
  },
  "language_info": {
   "codemirror_mode": {
    "name": "ipython",
    "version": 2
   },
   "file_extension": ".py",
   "mimetype": "text/x-python",
   "name": "python",
   "nbconvert_exporter": "python",
   "pygments_lexer": "ipython2",
   "version": "2.7.6"
  }
 },
 "nbformat": 4,
 "nbformat_minor": 5
}
